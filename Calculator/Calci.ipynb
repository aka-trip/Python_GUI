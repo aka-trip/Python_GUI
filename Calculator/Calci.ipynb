{
 "cells": [
  {
   "cell_type": "markdown",
   "metadata": {},
   "source": [
    "# Calculator using Python GUI {Tkinter}"
   ]
  },
  {
   "cell_type": "code",
   "execution_count": 2,
   "metadata": {},
   "outputs": [],
   "source": [
    "# Importing modules\n",
    "from tkinter import *\n",
    "import tkinter.font as font"
   ]
  },
  {
   "cell_type": "code",
   "execution_count": 3,
   "metadata": {},
   "outputs": [],
   "source": [
    "# Creating the main window\n",
    "root = Tk()\n",
    " \n",
    "# Assigning it the desired geometry\n",
    "root.geometry(\"380x400\")\n",
    " \n",
    "# Assigning the name of our window\n",
    "root.title(\"Calculator using Python GUI\")\n",
    " \n",
    "# Assigning it the capability to\n",
    "# be resizable (It is default)\n",
    "root.resizable(0, 0)\n",
    " \n",
    "# Creating a StringVar to take\n",
    "# the text entered in the Entry widget\n",
    "inp = StringVar()\n",
    "myFont = font.Font(size=15)\n",
    " \n",
    "# Creating an Entry widget to get the\n",
    "# mathematical expression\n",
    "# And also to display the results\n",
    "screen = Entry(root, text=inp, width=30,\n",
    "               justify='right', font=(10), bd=4)\n",
    " \n",
    "# We will use a grid like structure\n",
    "screen.grid(row=0, columnspan=4, padx=15,\n",
    "            pady=15, ipady=5)\n",
    " \n",
    "# Key matrix contains all the required the keys\n",
    "key_matrix = [[\"c\", u\"\\u221A\", \"/\", \"<-\"],\n",
    "              [\"7\", \"8\", \"9\", \"*\"],\n",
    "              [\"4\", \"5\", \"6\", \"-\"],\n",
    "              [\"1\", \"2\", \"3\", \"+\"],\n",
    "              [\"!\", 0, \".\", \"=\"]]\n",
    " \n",
    "# Creating a dictionary for the buttons\n",
    "btn_dict = {}\n",
    " \n",
    "# Variable to store our results\n",
    "ans_to_print = 0\n",
    " \n"
   ]
  },
  {
   "cell_type": "code",
   "execution_count": 4,
   "metadata": {},
   "outputs": [],
   "source": [
    "# Defining the function for calculation\n",
    "def Calculate(event):\n",
    "   \n",
    "    # getting the name of the button clicked\n",
    "    button = event.widget.cget(\"text\")\n",
    " \n",
    "    # Referring the global values\n",
    "    global key_matrix, inp, ans_to_print\n",
    " \n",
    "    try:\n",
    "        # Event containing a sqrt operation\n",
    "        if button == u\"\\u221A\":\n",
    "            ans = float(inp.get())**(0.5)\n",
    "            ans_to_print = str(ans)\n",
    "            inp.set(str(ans))\n",
    " \n",
    "        elif button == \"c\":  # Clear Button\n",
    "            inp.set(\"\")\n",
    " \n",
    "        elif button == \"!\":  # Factorial\n",
    "            def fact(n): return 1 if n == 0 else n*fact(n-1)\n",
    "            inp.set(str(fact(int(inp.get()))))\n",
    " \n",
    "        elif button == \"<-\":  # Backspace\n",
    "            inp.set(inp.get()[:len(inp.get())-1])\n",
    " \n",
    "        elif button == \"=\":  # Showing The Results\n",
    "            # Calculating the mathematical exp. using eval\n",
    "            ans_to_print = str(eval(inp.get()))\n",
    "            inp.set(ans_to_print)\n",
    " \n",
    "        # You may add many more operations\n",
    " \n",
    "        else:\n",
    "            # Displaying the digit pressed on screen\n",
    "            inp.set(inp.get()+str(button))\n",
    " \n",
    "    except:\n",
    "        # In case invalid syntax given in expression\n",
    "        inp.set(\"Wrong Operation\")\n",
    " "
   ]
  },
  {
   "cell_type": "code",
   "execution_count": 6,
   "metadata": {},
   "outputs": [
    {
     "ename": "TclError",
     "evalue": "can't invoke \"button\" command: application has been destroyed",
     "output_type": "error",
     "traceback": [
      "\u001b[1;31m---------------------------------------------------------------------------\u001b[0m",
      "\u001b[1;31mTclError\u001b[0m                                  Traceback (most recent call last)",
      "\u001b[1;32m<ipython-input-6-b6714ad3a302>\u001b[0m in \u001b[0;36m<module>\u001b[1;34m\u001b[0m\n\u001b[0;32m      7\u001b[0m \u001b[1;33m\u001b[0m\u001b[0m\n\u001b[0;32m      8\u001b[0m        \u001b[1;31m# Creating and Adding the buttons to dictionary\u001b[0m\u001b[1;33m\u001b[0m\u001b[1;33m\u001b[0m\u001b[1;33m\u001b[0m\u001b[0m\n\u001b[1;32m----> 9\u001b[1;33m        btn_dict[\"btn_\"+str(key_matrix[i][j])] = Button(\n\u001b[0m\u001b[0;32m     10\u001b[0m          root, bd=1, text=str(key_matrix[i][j]), font=myFont)\n\u001b[0;32m     11\u001b[0m \u001b[1;33m\u001b[0m\u001b[0m\n",
      "\u001b[1;32m~\\anaconda3\\lib\\tkinter\\__init__.py\u001b[0m in \u001b[0;36m__init__\u001b[1;34m(self, master, cnf, **kw)\u001b[0m\n\u001b[0;32m   2643\u001b[0m             \u001b[0moverrelief\u001b[0m\u001b[1;33m,\u001b[0m \u001b[0mstate\u001b[0m\u001b[1;33m,\u001b[0m \u001b[0mwidth\u001b[0m\u001b[1;33m\u001b[0m\u001b[1;33m\u001b[0m\u001b[0m\n\u001b[0;32m   2644\u001b[0m         \"\"\"\n\u001b[1;32m-> 2645\u001b[1;33m         \u001b[0mWidget\u001b[0m\u001b[1;33m.\u001b[0m\u001b[0m__init__\u001b[0m\u001b[1;33m(\u001b[0m\u001b[0mself\u001b[0m\u001b[1;33m,\u001b[0m \u001b[0mmaster\u001b[0m\u001b[1;33m,\u001b[0m \u001b[1;34m'button'\u001b[0m\u001b[1;33m,\u001b[0m \u001b[0mcnf\u001b[0m\u001b[1;33m,\u001b[0m \u001b[0mkw\u001b[0m\u001b[1;33m)\u001b[0m\u001b[1;33m\u001b[0m\u001b[1;33m\u001b[0m\u001b[0m\n\u001b[0m\u001b[0;32m   2646\u001b[0m \u001b[1;33m\u001b[0m\u001b[0m\n\u001b[0;32m   2647\u001b[0m     \u001b[1;32mdef\u001b[0m \u001b[0mflash\u001b[0m\u001b[1;33m(\u001b[0m\u001b[0mself\u001b[0m\u001b[1;33m)\u001b[0m\u001b[1;33m:\u001b[0m\u001b[1;33m\u001b[0m\u001b[1;33m\u001b[0m\u001b[0m\n",
      "\u001b[1;32m~\\anaconda3\\lib\\tkinter\\__init__.py\u001b[0m in \u001b[0;36m__init__\u001b[1;34m(self, master, widgetName, cnf, kw, extra)\u001b[0m\n\u001b[0;32m   2565\u001b[0m         \u001b[1;32mfor\u001b[0m \u001b[0mk\u001b[0m\u001b[1;33m,\u001b[0m \u001b[0mv\u001b[0m \u001b[1;32min\u001b[0m \u001b[0mclasses\u001b[0m\u001b[1;33m:\u001b[0m\u001b[1;33m\u001b[0m\u001b[1;33m\u001b[0m\u001b[0m\n\u001b[0;32m   2566\u001b[0m             \u001b[1;32mdel\u001b[0m \u001b[0mcnf\u001b[0m\u001b[1;33m[\u001b[0m\u001b[0mk\u001b[0m\u001b[1;33m]\u001b[0m\u001b[1;33m\u001b[0m\u001b[1;33m\u001b[0m\u001b[0m\n\u001b[1;32m-> 2567\u001b[1;33m         self.tk.call(\n\u001b[0m\u001b[0;32m   2568\u001b[0m             (widgetName, self._w) + extra + self._options(cnf))\n\u001b[0;32m   2569\u001b[0m         \u001b[1;32mfor\u001b[0m \u001b[0mk\u001b[0m\u001b[1;33m,\u001b[0m \u001b[0mv\u001b[0m \u001b[1;32min\u001b[0m \u001b[0mclasses\u001b[0m\u001b[1;33m:\u001b[0m\u001b[1;33m\u001b[0m\u001b[1;33m\u001b[0m\u001b[0m\n",
      "\u001b[1;31mTclError\u001b[0m: can't invoke \"button\" command: application has been destroyed"
     ]
    }
   ],
   "source": [
    " # Creating the buttons using for loop\n",
    " # Number of rows containing buttons\n",
    "for i in range(len(key_matrix)): \n",
    "    # Number of columns \n",
    "    for j in range(len(key_matrix[i])): \n",
    " \n",
    "        # Creating and Adding the buttons to dictionary\n",
    "        btn_dict[\"btn_\"+str(key_matrix[i][j])] = Button(\n",
    "          root, bd=1, text=str(key_matrix[i][j]), font=myFont)\n",
    "         \n",
    "        # Positioning buttons\n",
    "        btn_dict[\"btn_\"+str(key_matrix[i][j])].grid(\n",
    "          row=i+1, column=j, padx=5, pady=5, ipadx=5, ipady=5)\n",
    "         \n",
    "        # Assigning an action to the buttons\n",
    "        btn_dict[\"btn_\"+str(key_matrix[i][j])].bind('<Button-1>', Calculate)\n",
    "\n",
    "        root.mainloop()"
   ]
  },
  {
   "cell_type": "code",
   "execution_count": null,
   "metadata": {},
   "outputs": [],
   "source": []
  },
  {
   "cell_type": "code",
   "execution_count": null,
   "metadata": {},
   "outputs": [],
   "source": []
  },
  {
   "cell_type": "code",
   "execution_count": null,
   "metadata": {},
   "outputs": [],
   "source": []
  },
  {
   "cell_type": "code",
   "execution_count": null,
   "metadata": {},
   "outputs": [],
   "source": []
  },
  {
   "cell_type": "code",
   "execution_count": null,
   "metadata": {},
   "outputs": [],
   "source": []
  },
  {
   "cell_type": "code",
   "execution_count": null,
   "metadata": {},
   "outputs": [],
   "source": []
  }
 ],
 "metadata": {
  "kernelspec": {
   "display_name": "Python 3",
   "language": "python",
   "name": "python3"
  },
  "language_info": {
   "codemirror_mode": {
    "name": "ipython",
    "version": 3
   },
   "file_extension": ".py",
   "mimetype": "text/x-python",
   "name": "python",
   "nbconvert_exporter": "python",
   "pygments_lexer": "ipython3",
   "version": "3.8.3"
  }
 },
 "nbformat": 4,
 "nbformat_minor": 4
}
